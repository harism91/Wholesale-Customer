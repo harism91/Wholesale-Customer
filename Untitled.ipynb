{
 "cells": [
  {
   "cell_type": "code",
   "execution_count": 1,
   "id": "981d87d9",
   "metadata": {},
   "outputs": [],
   "source": [
    "import matplotlib.pyplot as plt\n",
    "import pandas as pd\n",
    "import seaborn as sb\n",
    "import numpy as np\n",
    "import joblib\n",
    "import warnings\n",
    "warnings.filterwarnings('ignore', category=FutureWarning)\n",
    "warnings.filterwarnings('ignore', category=DeprecationWarning)\n",
    "data = pd.read_csv('Wholesale customers data.csv')\n",
    "data.head()\n",
    "from numpy import loadtxt\n",
    "import xgboost\n",
    "from sklearn.model_selection import KFold\n",
    "from sklearn.model_selection import cross_val_score\n",
    "data = pd.read_csv('Wholesale customers data.csv')\n",
    "data.head()\n",
    "# train-test split evaluation of xgboost model\n",
    "from xgboost import XGBClassifier\n",
    "from sklearn.model_selection import train_test_split\n",
    "from sklearn.metrics import accuracy_score, precision_score, recall_score\n",
    "\n"
   ]
  },
  {
   "cell_type": "code",
   "execution_count": 2,
   "id": "f73b885e",
   "metadata": {},
   "outputs": [],
   "source": [
    "import warnings\n",
    "warnings.simplefilter(\"ignore\")\n",
    "import sklearn\n",
    "from sklearn import datasets\n",
    "from sklearn.model_selection import train_test_split\n",
    "%matplotlib inline\n",
    "data = pd.read_csv('Wholesale customers data.csv')\n",
    "features= data['Channel']\n",
    "data.drop('Channel', axis=1, inplace=True)"
   ]
  },
  {
   "cell_type": "code",
   "execution_count": 3,
   "id": "5618fb6c",
   "metadata": {},
   "outputs": [
    {
     "data": {
      "text/plain": [
       "array([[ 0.59066829,  0.05293319,  0.52356777, -0.04111489, -0.58936716,\n",
       "        -0.04356873, -0.06633906],\n",
       "       [ 0.59066829, -0.39130197,  0.54445767,  0.17031835, -0.27013618,\n",
       "         0.08640684,  0.08915105],\n",
       "       [ 0.59066829, -0.44702926,  0.40853771, -0.0281571 , -0.13753572,\n",
       "         0.13323164,  2.24329255],\n",
       "       [ 0.59066829,  0.10011141, -0.62401993, -0.3929769 ,  0.6871443 ,\n",
       "        -0.49858822,  0.09341105],\n",
       "       [ 0.59066829,  0.84023948, -0.05239645, -0.07935618,  0.17385884,\n",
       "        -0.23191782,  1.29934689]])"
      ]
     },
     "execution_count": 3,
     "metadata": {},
     "output_type": "execute_result"
    }
   ],
   "source": [
    "from sklearn.preprocessing import StandardScaler\n",
    "scaled1 = StandardScaler().fit_transform(data)\n",
    "scaled1[:5]"
   ]
  },
  {
   "cell_type": "code",
   "execution_count": 4,
   "id": "9f6dce8e",
   "metadata": {},
   "outputs": [
    {
     "name": "stdout",
     "output_type": "stream",
     "text": [
      "Requirement already satisfied: xgboost in /Users/harismuhammad/opt/anaconda3/lib/python3.9/site-packages (1.5.2)\n",
      "Requirement already satisfied: scipy in /Users/harismuhammad/opt/anaconda3/lib/python3.9/site-packages (from xgboost) (1.7.1)\n",
      "Requirement already satisfied: numpy in /Users/harismuhammad/opt/anaconda3/lib/python3.9/site-packages (from xgboost) (1.20.3)\n",
      "Note: you may need to restart the kernel to use updated packages.\n"
     ]
    }
   ],
   "source": [
    "pip install xgboost"
   ]
  },
  {
   "cell_type": "code",
   "execution_count": 5,
   "id": "84e5cd25",
   "metadata": {},
   "outputs": [],
   "source": [
    "X= scaled1\n",
    "Y= features\n",
    "X_train, X_test, y_train, y_test = train_test_split(X, Y, test_size=0.33, random_state=7)\n",
    "\n",
    "xg = xgboost.XGBClassifier(eval_metric ='logloss')\n",
    "kfold = KFold(n_splits=5)"
   ]
  },
  {
   "cell_type": "code",
   "execution_count": null,
   "id": "87a7ca0f",
   "metadata": {},
   "outputs": [],
   "source": [
    "print (\"Accuracy score: {}\".format(cross_val_score(xg, X_train, y_train, cv=kfold, scoring='accuracy')))"
   ]
  },
  {
   "cell_type": "code",
   "execution_count": 7,
   "id": "d2e9b268",
   "metadata": {},
   "outputs": [],
   "source": [
    "# print (\"Precision score: {}\".format(cross_val_score(xg, X_train, y_train, cv=kfold, scoring='precision')))\n",
    "# print (\"Recall score: {}\".format(cross_val_score(xg, X_train, y_train, cv=kfold, scoring='recall')))"
   ]
  },
  {
   "cell_type": "code",
   "execution_count": null,
   "id": "396703a8",
   "metadata": {},
   "outputs": [],
   "source": []
  }
 ],
 "metadata": {
  "kernelspec": {
   "display_name": "Python 3 (ipykernel)",
   "language": "python",
   "name": "python3"
  },
  "language_info": {
   "codemirror_mode": {
    "name": "ipython",
    "version": 3
   },
   "file_extension": ".py",
   "mimetype": "text/x-python",
   "name": "python",
   "nbconvert_exporter": "python",
   "pygments_lexer": "ipython3",
   "version": "3.9.7"
  }
 },
 "nbformat": 4,
 "nbformat_minor": 5
}
